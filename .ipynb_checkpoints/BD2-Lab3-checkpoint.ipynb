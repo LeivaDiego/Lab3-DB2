{
 "cells": [
  {
   "cell_type": "markdown",
   "id": "a1b00b89-3ca7-4416-b837-567f2f7f3f1a",
   "metadata": {},
   "source": [
    "### Laboratorio # 3\n",
    "\n",
    "- ##### Diego Alberto Leiva 21752\n",
    "- ##### José Pablo Orellana 21970"
   ]
  },
  {
   "cell_type": "markdown",
   "id": "d0b00b78-76c1-400e-8263-e9cf58139e15",
   "metadata": {},
   "source": [
    "Librerías"
   ]
  },
  {
   "cell_type": "code",
   "execution_count": 1,
   "id": "1a26b222-9330-4d63-adda-4956716a6ca9",
   "metadata": {},
   "outputs": [],
   "source": [
    "import pandas as pd"
   ]
  },
  {
   "cell_type": "markdown",
   "id": "2a17558b-630a-43cf-80d7-b564c29aaccb",
   "metadata": {},
   "source": [
    "Cargar Archivo"
   ]
  },
  {
   "cell_type": "code",
   "execution_count": 4,
   "id": "f9e4b189-428c-4e8c-8b58-a11389507c5b",
   "metadata": {},
   "outputs": [],
   "source": [
    "# Cargar el archivo CSV\n",
    "df = pd.read_csv('supermarket_sales.csv')"
   ]
  },
  {
   "cell_type": "markdown",
   "id": "6e6700c1-fdb0-40fe-b4b2-b532edf52c80",
   "metadata": {},
   "source": [
    "Cambiar nombre de las columnas"
   ]
  },
  {
   "cell_type": "code",
   "execution_count": 5,
   "id": "b1b4cf19-9daa-4b97-86c2-d56bcfb33cf3",
   "metadata": {},
   "outputs": [],
   "source": [
    "# Traducir los nombres de las columnas\n",
    "nuevos_nombres = {\n",
    "    'Invoice ID': 'ID de Factura',\n",
    "    'Branch': 'Sucursal',\n",
    "    'City': 'Ciudad',\n",
    "    'Customer type': 'Tipo de Cliente',\n",
    "    'Gender': 'Género',\n",
    "    'Product line': 'Línea de Producto',\n",
    "    'Unit price': 'Precio Unitario',\n",
    "    'Quantity': 'Cantidad',\n",
    "    'Tax 5%': 'Impuesto 5%',\n",
    "    'Total': 'Total',\n",
    "    'Date': 'Fecha',\n",
    "    'Time': 'Hora',\n",
    "    'Payment': 'Método de Pago',\n",
    "    'cogs': 'Costo de Bienes Vendidos (COGS)',\n",
    "    'gross margin percentage': 'Porcentaje de Margen Bruto',\n",
    "    'gross income': 'Ingreso Bruto',\n",
    "    'Rating': 'Calificación'\n",
    "}\n",
    "\n",
    "# Renombrar las columnas en el DataFrame\n",
    "df.rename(columns=nuevos_nombres, inplace=True)\n",
    "\n",
    "# Guardar el DataFrame modificado en un nuevo archivo CSV\n",
    "df.to_csv('datos_new.csv', index=False)"
   ]
  },
  {
   "cell_type": "markdown",
   "id": "8bc34357-853b-4a5c-bcd4-b9c69ee54a14",
   "metadata": {},
   "source": [
    "Cargar de nuevo los datos con nuevas columnas"
   ]
  },
  {
   "cell_type": "code",
   "execution_count": 6,
   "id": "b319ad6d-2680-4217-851b-4cfc33916fee",
   "metadata": {},
   "outputs": [],
   "source": [
    "# Cargar el archivo CSV\n",
    "df = pd.read_csv('datos_new.csv')"
   ]
  },
  {
   "cell_type": "code",
   "execution_count": 7,
   "id": "796a8ba3-c16c-444f-ba35-b28ed6d562ec",
   "metadata": {},
   "outputs": [
    {
     "data": {
      "text/plain": [
       "pandas.core.frame.DataFrame"
      ]
     },
     "execution_count": 7,
     "metadata": {},
     "output_type": "execute_result"
    }
   ],
   "source": [
    "type(df)"
   ]
  },
  {
   "cell_type": "code",
   "execution_count": 8,
   "id": "3ea825d5-f530-457d-a2cc-0d499e406367",
   "metadata": {},
   "outputs": [
    {
     "data": {
      "text/plain": [
       "0"
      ]
     },
     "execution_count": 8,
     "metadata": {},
     "output_type": "execute_result"
    }
   ],
   "source": [
    "df.duplicated().sum()"
   ]
  },
  {
   "cell_type": "code",
   "execution_count": 9,
   "id": "6c09dca7-cf56-47f0-b661-3238ae39da9e",
   "metadata": {},
   "outputs": [
    {
     "data": {
      "text/plain": [
       "ID de Factura                      0\n",
       "Sucursal                           0\n",
       "Ciudad                             0\n",
       "Tipo de Cliente                    0\n",
       "Género                             0\n",
       "Línea de Producto                  0\n",
       "Precio Unitario                    0\n",
       "Cantidad                           0\n",
       "Impuesto 5%                        0\n",
       "Total                              0\n",
       "Fecha                              0\n",
       "Hora                               0\n",
       "Método de Pago                     0\n",
       "Costo de Bienes Vendidos (COGS)    0\n",
       "Porcentaje de Margen Bruto         0\n",
       "Ingreso Bruto                      0\n",
       "Calificación                       0\n",
       "dtype: int64"
      ]
     },
     "execution_count": 9,
     "metadata": {},
     "output_type": "execute_result"
    }
   ],
   "source": [
    "df.isnull().sum()"
   ]
  },
  {
   "cell_type": "code",
   "execution_count": 10,
   "id": "c4f77134-4a24-49e2-9b85-c86a8038746c",
   "metadata": {},
   "outputs": [
    {
     "name": "stdout",
     "output_type": "stream",
     "text": [
      "<class 'pandas.core.frame.DataFrame'>\n",
      "RangeIndex: 1000 entries, 0 to 999\n",
      "Data columns (total 17 columns):\n",
      " #   Column                           Non-Null Count  Dtype  \n",
      "---  ------                           --------------  -----  \n",
      " 0   ID de Factura                    1000 non-null   object \n",
      " 1   Sucursal                         1000 non-null   object \n",
      " 2   Ciudad                           1000 non-null   object \n",
      " 3   Tipo de Cliente                  1000 non-null   object \n",
      " 4   Género                           1000 non-null   object \n",
      " 5   Línea de Producto                1000 non-null   object \n",
      " 6   Precio Unitario                  1000 non-null   float64\n",
      " 7   Cantidad                         1000 non-null   int64  \n",
      " 8   Impuesto 5%                      1000 non-null   float64\n",
      " 9   Total                            1000 non-null   float64\n",
      " 10  Fecha                            1000 non-null   object \n",
      " 11  Hora                             1000 non-null   object \n",
      " 12  Método de Pago                   1000 non-null   object \n",
      " 13  Costo de Bienes Vendidos (COGS)  1000 non-null   float64\n",
      " 14  Porcentaje de Margen Bruto       1000 non-null   float64\n",
      " 15  Ingreso Bruto                    1000 non-null   float64\n",
      " 16  Calificación                     1000 non-null   float64\n",
      "dtypes: float64(7), int64(1), object(9)\n",
      "memory usage: 132.9+ KB\n"
     ]
    }
   ],
   "source": [
    "df.info()"
   ]
  },
  {
   "cell_type": "code",
   "execution_count": 11,
   "id": "54f80cb8-8957-47c5-a05b-6150e94e7778",
   "metadata": {},
   "outputs": [
    {
     "data": {
      "text/html": [
       "<div>\n",
       "<style scoped>\n",
       "    .dataframe tbody tr th:only-of-type {\n",
       "        vertical-align: middle;\n",
       "    }\n",
       "\n",
       "    .dataframe tbody tr th {\n",
       "        vertical-align: top;\n",
       "    }\n",
       "\n",
       "    .dataframe thead th {\n",
       "        text-align: right;\n",
       "    }\n",
       "</style>\n",
       "<table border=\"1\" class=\"dataframe\">\n",
       "  <thead>\n",
       "    <tr style=\"text-align: right;\">\n",
       "      <th></th>\n",
       "      <th>ID de Factura</th>\n",
       "      <th>Sucursal</th>\n",
       "      <th>Ciudad</th>\n",
       "      <th>Tipo de Cliente</th>\n",
       "      <th>Género</th>\n",
       "      <th>Línea de Producto</th>\n",
       "      <th>Precio Unitario</th>\n",
       "      <th>Cantidad</th>\n",
       "      <th>Impuesto 5%</th>\n",
       "      <th>Total</th>\n",
       "      <th>Fecha</th>\n",
       "      <th>Hora</th>\n",
       "      <th>Método de Pago</th>\n",
       "      <th>Costo de Bienes Vendidos (COGS)</th>\n",
       "      <th>Porcentaje de Margen Bruto</th>\n",
       "      <th>Ingreso Bruto</th>\n",
       "      <th>Calificación</th>\n",
       "    </tr>\n",
       "  </thead>\n",
       "  <tbody>\n",
       "    <tr>\n",
       "      <th>0</th>\n",
       "      <td>750-67-8428</td>\n",
       "      <td>A</td>\n",
       "      <td>Yangon</td>\n",
       "      <td>Member</td>\n",
       "      <td>Female</td>\n",
       "      <td>Health and beauty</td>\n",
       "      <td>74.69</td>\n",
       "      <td>7</td>\n",
       "      <td>26.1415</td>\n",
       "      <td>548.9715</td>\n",
       "      <td>1/5/2019</td>\n",
       "      <td>13:08</td>\n",
       "      <td>Ewallet</td>\n",
       "      <td>522.83</td>\n",
       "      <td>4.761905</td>\n",
       "      <td>26.1415</td>\n",
       "      <td>9.1</td>\n",
       "    </tr>\n",
       "    <tr>\n",
       "      <th>1</th>\n",
       "      <td>226-31-3081</td>\n",
       "      <td>C</td>\n",
       "      <td>Naypyitaw</td>\n",
       "      <td>Normal</td>\n",
       "      <td>Female</td>\n",
       "      <td>Electronic accessories</td>\n",
       "      <td>15.28</td>\n",
       "      <td>5</td>\n",
       "      <td>3.8200</td>\n",
       "      <td>80.2200</td>\n",
       "      <td>3/8/2019</td>\n",
       "      <td>10:29</td>\n",
       "      <td>Cash</td>\n",
       "      <td>76.40</td>\n",
       "      <td>4.761905</td>\n",
       "      <td>3.8200</td>\n",
       "      <td>9.6</td>\n",
       "    </tr>\n",
       "    <tr>\n",
       "      <th>2</th>\n",
       "      <td>631-41-3108</td>\n",
       "      <td>A</td>\n",
       "      <td>Yangon</td>\n",
       "      <td>Normal</td>\n",
       "      <td>Male</td>\n",
       "      <td>Home and lifestyle</td>\n",
       "      <td>46.33</td>\n",
       "      <td>7</td>\n",
       "      <td>16.2155</td>\n",
       "      <td>340.5255</td>\n",
       "      <td>3/3/2019</td>\n",
       "      <td>13:23</td>\n",
       "      <td>Credit card</td>\n",
       "      <td>324.31</td>\n",
       "      <td>4.761905</td>\n",
       "      <td>16.2155</td>\n",
       "      <td>7.4</td>\n",
       "    </tr>\n",
       "    <tr>\n",
       "      <th>3</th>\n",
       "      <td>123-19-1176</td>\n",
       "      <td>A</td>\n",
       "      <td>Yangon</td>\n",
       "      <td>Member</td>\n",
       "      <td>Male</td>\n",
       "      <td>Health and beauty</td>\n",
       "      <td>58.22</td>\n",
       "      <td>8</td>\n",
       "      <td>23.2880</td>\n",
       "      <td>489.0480</td>\n",
       "      <td>1/27/2019</td>\n",
       "      <td>20:33</td>\n",
       "      <td>Ewallet</td>\n",
       "      <td>465.76</td>\n",
       "      <td>4.761905</td>\n",
       "      <td>23.2880</td>\n",
       "      <td>8.4</td>\n",
       "    </tr>\n",
       "    <tr>\n",
       "      <th>4</th>\n",
       "      <td>373-73-7910</td>\n",
       "      <td>A</td>\n",
       "      <td>Yangon</td>\n",
       "      <td>Normal</td>\n",
       "      <td>Male</td>\n",
       "      <td>Sports and travel</td>\n",
       "      <td>86.31</td>\n",
       "      <td>7</td>\n",
       "      <td>30.2085</td>\n",
       "      <td>634.3785</td>\n",
       "      <td>2/8/2019</td>\n",
       "      <td>10:37</td>\n",
       "      <td>Ewallet</td>\n",
       "      <td>604.17</td>\n",
       "      <td>4.761905</td>\n",
       "      <td>30.2085</td>\n",
       "      <td>5.3</td>\n",
       "    </tr>\n",
       "  </tbody>\n",
       "</table>\n",
       "</div>"
      ],
      "text/plain": [
       "  ID de Factura Sucursal     Ciudad Tipo de Cliente  Género  \\\n",
       "0   750-67-8428        A     Yangon          Member  Female   \n",
       "1   226-31-3081        C  Naypyitaw          Normal  Female   \n",
       "2   631-41-3108        A     Yangon          Normal    Male   \n",
       "3   123-19-1176        A     Yangon          Member    Male   \n",
       "4   373-73-7910        A     Yangon          Normal    Male   \n",
       "\n",
       "        Línea de Producto  Precio Unitario  Cantidad  Impuesto 5%     Total  \\\n",
       "0       Health and beauty            74.69         7      26.1415  548.9715   \n",
       "1  Electronic accessories            15.28         5       3.8200   80.2200   \n",
       "2      Home and lifestyle            46.33         7      16.2155  340.5255   \n",
       "3       Health and beauty            58.22         8      23.2880  489.0480   \n",
       "4       Sports and travel            86.31         7      30.2085  634.3785   \n",
       "\n",
       "       Fecha   Hora Método de Pago  Costo de Bienes Vendidos (COGS)  \\\n",
       "0   1/5/2019  13:08        Ewallet                           522.83   \n",
       "1   3/8/2019  10:29           Cash                            76.40   \n",
       "2   3/3/2019  13:23    Credit card                           324.31   \n",
       "3  1/27/2019  20:33        Ewallet                           465.76   \n",
       "4   2/8/2019  10:37        Ewallet                           604.17   \n",
       "\n",
       "   Porcentaje de Margen Bruto  Ingreso Bruto  Calificación  \n",
       "0                    4.761905        26.1415           9.1  \n",
       "1                    4.761905         3.8200           9.6  \n",
       "2                    4.761905        16.2155           7.4  \n",
       "3                    4.761905        23.2880           8.4  \n",
       "4                    4.761905        30.2085           5.3  "
      ]
     },
     "execution_count": 11,
     "metadata": {},
     "output_type": "execute_result"
    }
   ],
   "source": [
    "df.head()"
   ]
  },
  {
   "cell_type": "code",
   "execution_count": null,
   "id": "7bc47f87-77ab-4c2e-a852-407b1bdfe339",
   "metadata": {},
   "outputs": [],
   "source": []
  }
 ],
 "metadata": {
  "kernelspec": {
   "display_name": "Python 3 (ipykernel)",
   "language": "python",
   "name": "python3"
  },
  "language_info": {
   "codemirror_mode": {
    "name": "ipython",
    "version": 3
   },
   "file_extension": ".py",
   "mimetype": "text/x-python",
   "name": "python",
   "nbconvert_exporter": "python",
   "pygments_lexer": "ipython3",
   "version": "3.12.1"
  }
 },
 "nbformat": 4,
 "nbformat_minor": 5
}
