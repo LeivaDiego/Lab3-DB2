{
 "cells": [
  {
   "cell_type": "markdown",
   "id": "a1b00b89-3ca7-4416-b837-567f2f7f3f1a",
   "metadata": {},
   "source": [
    "### Laboratorio # 3\n",
    "\n",
    "- ##### Diego Alberto Leiva 21752\n",
    "- ##### José Pablo Orellana 21970"
   ]
  },
  {
   "cell_type": "markdown",
   "id": "d0b00b78-76c1-400e-8263-e9cf58139e15",
   "metadata": {},
   "source": [
    "Librerías"
   ]
  },
  {
   "cell_type": "code",
   "execution_count": 1,
   "id": "1a26b222-9330-4d63-adda-4956716a6ca9",
   "metadata": {},
   "outputs": [],
   "source": [
    "import pandas as pd"
   ]
  },
  {
   "cell_type": "markdown",
   "id": "2a17558b-630a-43cf-80d7-b564c29aaccb",
   "metadata": {},
   "source": [
    "Cargar Archivo"
   ]
  },
  {
   "cell_type": "code",
   "execution_count": 4,
   "id": "f9e4b189-428c-4e8c-8b58-a11389507c5b",
   "metadata": {},
   "outputs": [],
   "source": [
    "# Cargar el archivo CSV\n",
    "df = pd.read_csv('supermarket_sales.csv')"
   ]
  },
  {
   "cell_type": "markdown",
   "id": "6e6700c1-fdb0-40fe-b4b2-b532edf52c80",
   "metadata": {},
   "source": [
    "Cambiar nombre de las columnas"
   ]
  },
  {
   "cell_type": "code",
   "execution_count": 5,
   "id": "b1b4cf19-9daa-4b97-86c2-d56bcfb33cf3",
   "metadata": {},
   "outputs": [],
   "source": [
    "# Traducir los nombres de las columnas\n",
    "nuevos_nombres = {\n",
    "    'Invoice ID': 'ID de Factura',\n",
    "    'Branch': 'Sucursal',\n",
    "    'City': 'Ciudad',\n",
    "    'Customer type': 'Tipo de Cliente',\n",
    "    'Gender': 'Género',\n",
    "    'Product line': 'Línea de Producto',\n",
    "    'Unit price': 'Precio Unitario',\n",
    "    'Quantity': 'Cantidad',\n",
    "    'Tax 5%': 'Impuesto 5%',\n",
    "    'Total': 'Total',\n",
    "    'Date': 'Fecha',\n",
    "    'Time': 'Hora',\n",
    "    'Payment': 'Método de Pago',\n",
    "    'cogs': 'Costo de Bienes Vendidos (COGS)',\n",
    "    'gross margin percentage': 'Porcentaje de Margen Bruto',\n",
    "    'gross income': 'Ingreso Bruto',\n",
    "    'Rating': 'Calificación'\n",
    "}\n",
    "\n",
    "# Renombrar las columnas en el DataFrame\n",
    "df.rename(columns=nuevos_nombres, inplace=True)\n",
    "\n",
    "# Guardar el DataFrame modificado en un nuevo archivo CSV\n",
    "df.to_csv('datos_new.csv', index=False)"
   ]
  },
  {
   "cell_type": "markdown",
   "id": "8bc34357-853b-4a5c-bcd4-b9c69ee54a14",
   "metadata": {},
   "source": [
    "Cargar de nuevo los datos con nuevas columnas"
   ]
  },
  {
   "cell_type": "code",
   "execution_count": 6,
   "id": "b319ad6d-2680-4217-851b-4cfc33916fee",
   "metadata": {},
   "outputs": [],
   "source": [
    "# Cargar el archivo CSV\n",
    "df = pd.read_csv('datos_new.csv')"
   ]
  },
  {
   "cell_type": "code",
   "execution_count": null,
   "id": "796a8ba3-c16c-444f-ba35-b28ed6d562ec",
   "metadata": {},
   "outputs": [],
   "source": []
  }
 ],
 "metadata": {
  "kernelspec": {
   "display_name": "Python 3 (ipykernel)",
   "language": "python",
   "name": "python3"
  },
  "language_info": {
   "codemirror_mode": {
    "name": "ipython",
    "version": 3
   },
   "file_extension": ".py",
   "mimetype": "text/x-python",
   "name": "python",
   "nbconvert_exporter": "python",
   "pygments_lexer": "ipython3",
   "version": "3.12.1"
  }
 },
 "nbformat": 4,
 "nbformat_minor": 5
}
